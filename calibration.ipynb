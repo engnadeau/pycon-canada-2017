{
 "cells": [
  {
   "cell_type": "markdown",
   "metadata": {
    "slideshow": {
     "slide_type": "slide"
    }
   },
   "source": [
    "# UR10 Calibration\n",
    "- Step-by-step introduction to `pybotics`\n",
    "- Simplified calibration of UR10 industrial collaborative robot"
   ]
  },
  {
   "cell_type": "markdown",
   "metadata": {
    "slideshow": {
     "slide_type": "skip"
    }
   },
   "source": [
    "## Imports"
   ]
  },
  {
   "cell_type": "code",
   "execution_count": 1,
   "metadata": {
    "slideshow": {
     "slide_type": "skip"
    }
   },
   "outputs": [],
   "source": [
    "# pybotics\n",
    "from pybotics import Robot, KinematicChain, LinkConvention, RobotOptimizationMask, Tool, Frame\n",
    "from pybotics.calibration import compute_absolute_errors\n",
    "from pybotics.constants import TRANSFORM_MATRIX_SHAPE, POSITION_VECTOR_LENGTH, TRANSFORM_VECTOR_LENGTH\n",
    "\n",
    "# essentials\n",
    "import numpy as np\n",
    "import pandas as pd\n",
    "from copy import deepcopy\n",
    "\n",
    "# optimization\n",
    "import scipy.optimize\n",
    "from sklearn.model_selection import train_test_split\n",
    "\n",
    "# plotting\n",
    "from matplotlib import pyplot as plt\n",
    "from mpl_toolkits.mplot3d import Axes3D\n",
    "%matplotlib inline  \n",
    "\n",
    "# printing options\n",
    "np.set_printoptions(suppress=True)\n",
    "pd.set_option('precision', 3)"
   ]
  },
  {
   "cell_type": "markdown",
   "metadata": {
    "slideshow": {
     "slide_type": "slide"
    }
   },
   "source": [
    "## Optimization Function\n",
    "- Computes the errors between a robot model and the measured positions (i.e., real life)\n",
    "    - Requires a series of measured joint-position pairs\n",
    "        - Joints = random robot configurations\n",
    "        - Positions = measured real-world Cartesian positions with a laser tracker"
   ]
  },
  {
   "cell_type": "code",
   "execution_count": 2,
   "metadata": {
    "slideshow": {
     "slide_type": "subslide"
    }
   },
   "outputs": [],
   "source": [
    "def fitness_function(optimization_vector, robot, joints, positions):\n",
    "    \"\"\"Return absolute distance errors of a given robot model from corresponding joints and positions.\"\"\"\n",
    "    \n",
    "    # apply latest optimization vector     \n",
    "    robot.apply_optimization_vector(optimization_vector)\n",
    "    \n",
    "    # compute absolute errors\n",
    "    # errors = abs(calculated fk - actual position)     \n",
    "    errors = compute_absolute_errors(robot, joints, positions)\n",
    "    \n",
    "    return errors"
   ]
  },
  {
   "cell_type": "markdown",
   "metadata": {
    "slideshow": {
     "slide_type": "slide"
    }
   },
   "source": [
    "# World Frame\n",
    "- Describes the geometric transformation between our global reference frame and the base of the robot\n",
    "    - Here:\n",
    "        - Global reference frame = laser tracker's origin\n",
    "        - Assumed to be well defined"
   ]
  },
  {
   "cell_type": "code",
   "execution_count": 3,
   "metadata": {
    "slideshow": {
     "slide_type": "subslide"
    }
   },
   "outputs": [
    {
     "data": {
      "text/plain": [
       "array([[   -0.910397,     0.413555,    -0.012223,  2289.101393],\n",
       "       [   -0.413474,    -0.910475,    -0.008638,    36.666412],\n",
       "       [   -0.014701,    -0.00281 ,     0.999888,  -899.473355],\n",
       "       [    0.      ,     0.      ,     0.      ,     1.      ]])"
      ]
     },
     "metadata": {},
     "output_type": "display_data"
    }
   ],
   "source": [
    "world_frame = np.array(\n",
    "    [-0.910397, 0.413555, -0.012223, 2289.101393,\n",
    "     -0.413474, -0.910475, -0.008638, 36.666412,\n",
    "     -0.014701, -0.002810, 0.999888, -899.473355,\n",
    "     0, 0, 0, 1]\n",
    ").reshape(TRANSFORM_MATRIX_SHAPE)\n",
    "\n",
    "display(world_frame)"
   ]
  },
  {
   "cell_type": "markdown",
   "metadata": {
    "slideshow": {
     "slide_type": "slide"
    }
   },
   "source": [
    "# Tool Frame\n",
    "- Describes the geometric transformation between our robot flange and the tool centre point (TCP)\n",
    "    - TCP = centre of spherically mounted retroreflector (SMR)\n",
    "- Derived from mechanical CAD measurements"
   ]
  },
  {
   "cell_type": "code",
   "execution_count": 4,
   "metadata": {
    "slideshow": {
     "slide_type": "subslide"
    }
   },
   "outputs": [
    {
     "data": {
      "text/plain": [
       "array([[   1.      ,    0.      ,    0.      ,  -31.418407],\n",
       "       [   0.      ,    1.      ,    0.      , -119.737717],\n",
       "       [   0.      ,    0.      ,    1.      ,   27.368691],\n",
       "       [   0.      ,    0.      ,    0.      ,    1.      ]])"
      ]
     },
     "metadata": {},
     "output_type": "display_data"
    }
   ],
   "source": [
    "tool_frame = np.array(\n",
    "    [1, 0, 0, -31.418407,\n",
    "     0, 1, 0, -119.737717,\n",
    "     0, 0, 1, 27.368691,\n",
    "     0, 0, 0, 1]\n",
    ").reshape(TRANSFORM_MATRIX_SHAPE)\n",
    "\n",
    "display(tool_frame)"
   ]
  },
  {
   "cell_type": "markdown",
   "metadata": {
    "slideshow": {
     "slide_type": "slide"
    }
   },
   "source": [
    "# Measured Tool Frame Poses\n",
    "- Calibrate the tool frame\n",
    "- Simple poses that just rotate the last three joints (i.e., robot wrist)\n",
    "    - Minimize sources of error"
   ]
  },
  {
   "cell_type": "code",
   "execution_count": 5,
   "metadata": {
    "scrolled": true,
    "slideshow": {
     "slide_type": "subslide"
    }
   },
   "outputs": [
    {
     "data": {
      "text/html": [
       "<div>\n",
       "<style>\n",
       "    .dataframe thead tr:only-child th {\n",
       "        text-align: right;\n",
       "    }\n",
       "\n",
       "    .dataframe thead th {\n",
       "        text-align: left;\n",
       "    }\n",
       "\n",
       "    .dataframe tbody tr th {\n",
       "        vertical-align: top;\n",
       "    }\n",
       "</style>\n",
       "<table border=\"1\" class=\"dataframe\">\n",
       "  <thead>\n",
       "    <tr style=\"text-align: right;\">\n",
       "      <th></th>\n",
       "      <th>joint_0</th>\n",
       "      <th>joint_1</th>\n",
       "      <th>joint_2</th>\n",
       "      <th>joint_3</th>\n",
       "      <th>joint_4</th>\n",
       "      <th>joint_5</th>\n",
       "      <th>laser_x</th>\n",
       "      <th>laser_y</th>\n",
       "      <th>laser_z</th>\n",
       "    </tr>\n",
       "  </thead>\n",
       "  <tbody>\n",
       "    <tr>\n",
       "      <th>0</th>\n",
       "      <td>90</td>\n",
       "      <td>-90</td>\n",
       "      <td>90</td>\n",
       "      <td>0</td>\n",
       "      <td>-30</td>\n",
       "      <td>0</td>\n",
       "      <td>1800.732</td>\n",
       "      <td>406.872</td>\n",
       "      <td>-406.413</td>\n",
       "    </tr>\n",
       "    <tr>\n",
       "      <th>1</th>\n",
       "      <td>90</td>\n",
       "      <td>-90</td>\n",
       "      <td>90</td>\n",
       "      <td>0</td>\n",
       "      <td>0</td>\n",
       "      <td>0</td>\n",
       "      <td>1774.976</td>\n",
       "      <td>465.445</td>\n",
       "      <td>-406.164</td>\n",
       "    </tr>\n",
       "    <tr>\n",
       "      <th>2</th>\n",
       "      <td>90</td>\n",
       "      <td>-90</td>\n",
       "      <td>90</td>\n",
       "      <td>0</td>\n",
       "      <td>30</td>\n",
       "      <td>0</td>\n",
       "      <td>1781.964</td>\n",
       "      <td>529.086</td>\n",
       "      <td>-405.476</td>\n",
       "    </tr>\n",
       "    <tr>\n",
       "      <th>3</th>\n",
       "      <td>90</td>\n",
       "      <td>-90</td>\n",
       "      <td>90</td>\n",
       "      <td>0</td>\n",
       "      <td>0</td>\n",
       "      <td>-30</td>\n",
       "      <td>1752.478</td>\n",
       "      <td>516.228</td>\n",
       "      <td>-374.215</td>\n",
       "    </tr>\n",
       "    <tr>\n",
       "      <th>4</th>\n",
       "      <td>90</td>\n",
       "      <td>-90</td>\n",
       "      <td>90</td>\n",
       "      <td>0</td>\n",
       "      <td>0</td>\n",
       "      <td>0</td>\n",
       "      <td>1774.973</td>\n",
       "      <td>465.446</td>\n",
       "      <td>-406.169</td>\n",
       "    </tr>\n",
       "    <tr>\n",
       "      <th>5</th>\n",
       "      <td>90</td>\n",
       "      <td>-90</td>\n",
       "      <td>90</td>\n",
       "      <td>0</td>\n",
       "      <td>0</td>\n",
       "      <td>30</td>\n",
       "      <td>1800.434</td>\n",
       "      <td>406.647</td>\n",
       "      <td>-406.076</td>\n",
       "    </tr>\n",
       "    <tr>\n",
       "      <th>6</th>\n",
       "      <td>90</td>\n",
       "      <td>-90</td>\n",
       "      <td>90</td>\n",
       "      <td>0</td>\n",
       "      <td>0</td>\n",
       "      <td>0</td>\n",
       "      <td>1774.963</td>\n",
       "      <td>465.474</td>\n",
       "      <td>-406.162</td>\n",
       "    </tr>\n",
       "  </tbody>\n",
       "</table>\n",
       "</div>"
      ],
      "text/plain": [
       "   joint_0  joint_1  joint_2  joint_3  joint_4  joint_5   laser_x  laser_y  \\\n",
       "0       90      -90       90        0      -30        0  1800.732  406.872   \n",
       "1       90      -90       90        0        0        0  1774.976  465.445   \n",
       "2       90      -90       90        0       30        0  1781.964  529.086   \n",
       "3       90      -90       90        0        0      -30  1752.478  516.228   \n",
       "4       90      -90       90        0        0        0  1774.973  465.446   \n",
       "5       90      -90       90        0        0       30  1800.434  406.647   \n",
       "6       90      -90       90        0        0        0  1774.963  465.474   \n",
       "\n",
       "   laser_z  \n",
       "0 -406.413  \n",
       "1 -406.164  \n",
       "2 -405.476  \n",
       "3 -374.215  \n",
       "4 -406.169  \n",
       "5 -406.076  \n",
       "6 -406.162  "
      ]
     },
     "metadata": {},
     "output_type": "display_data"
    }
   ],
   "source": [
    "tool_df = pd.read_csv('tool.csv')\n",
    "\n",
    "display(tool_df)"
   ]
  },
  {
   "cell_type": "code",
   "execution_count": 6,
   "metadata": {
    "scrolled": true,
    "slideshow": {
     "slide_type": "subslide"
    }
   },
   "outputs": [],
   "source": [
    "# split df into inputs/outputs\n",
    "tool_joints = tool_df[['joint_{}'.format(i) for i in range(6)]]\n",
    "tool_positions = tool_df[['laser_{}'.format(i) for i in 'xyz']]\n",
    "\n",
    "# pybotics uses radians\n",
    "tool_joints = np.deg2rad(tool_joints)"
   ]
  },
  {
   "cell_type": "markdown",
   "metadata": {
    "slideshow": {
     "slide_type": "slide"
    }
   },
   "source": [
    "# Measured Robot Poses\n",
    "- Calibrate the robot kinematic chain (i.e., MDH parameters)\n",
    "- Many random robot configurations (i.e., joints) are measured"
   ]
  },
  {
   "cell_type": "code",
   "execution_count": 7,
   "metadata": {
    "scrolled": true,
    "slideshow": {
     "slide_type": "subslide"
    }
   },
   "outputs": [
    {
     "data": {
      "text/html": [
       "<div>\n",
       "<style>\n",
       "    .dataframe thead tr:only-child th {\n",
       "        text-align: right;\n",
       "    }\n",
       "\n",
       "    .dataframe thead th {\n",
       "        text-align: left;\n",
       "    }\n",
       "\n",
       "    .dataframe tbody tr th {\n",
       "        vertical-align: top;\n",
       "    }\n",
       "</style>\n",
       "<table border=\"1\" class=\"dataframe\">\n",
       "  <thead>\n",
       "    <tr style=\"text-align: right;\">\n",
       "      <th></th>\n",
       "      <th>joint_0</th>\n",
       "      <th>joint_1</th>\n",
       "      <th>joint_2</th>\n",
       "      <th>joint_3</th>\n",
       "      <th>joint_4</th>\n",
       "      <th>joint_5</th>\n",
       "      <th>laser_x</th>\n",
       "      <th>laser_y</th>\n",
       "      <th>laser_z</th>\n",
       "      <th>tool_x</th>\n",
       "      <th>tool_y</th>\n",
       "      <th>tool_z</th>\n",
       "    </tr>\n",
       "  </thead>\n",
       "  <tbody>\n",
       "    <tr>\n",
       "      <th>0</th>\n",
       "      <td>141.158</td>\n",
       "      <td>-56.026</td>\n",
       "      <td>16.648</td>\n",
       "      <td>26.515</td>\n",
       "      <td>71.239</td>\n",
       "      <td>74.703</td>\n",
       "      <td>1329.845</td>\n",
       "      <td>-40.650</td>\n",
       "      <td>-76.294</td>\n",
       "      <td>-31.418</td>\n",
       "      <td>-119.738</td>\n",
       "      <td>27.369</td>\n",
       "    </tr>\n",
       "    <tr>\n",
       "      <th>1</th>\n",
       "      <td>113.155</td>\n",
       "      <td>-38.278</td>\n",
       "      <td>29.866</td>\n",
       "      <td>156.538</td>\n",
       "      <td>-28.555</td>\n",
       "      <td>3.794</td>\n",
       "      <td>1388.183</td>\n",
       "      <td>462.718</td>\n",
       "      <td>-104.241</td>\n",
       "      <td>-31.418</td>\n",
       "      <td>-119.738</td>\n",
       "      <td>27.369</td>\n",
       "    </tr>\n",
       "    <tr>\n",
       "      <th>2</th>\n",
       "      <td>80.101</td>\n",
       "      <td>-45.366</td>\n",
       "      <td>27.095</td>\n",
       "      <td>60.263</td>\n",
       "      <td>-14.974</td>\n",
       "      <td>-68.352</td>\n",
       "      <td>1742.167</td>\n",
       "      <td>875.745</td>\n",
       "      <td>-321.800</td>\n",
       "      <td>-31.418</td>\n",
       "      <td>-119.738</td>\n",
       "      <td>27.369</td>\n",
       "    </tr>\n",
       "    <tr>\n",
       "      <th>3</th>\n",
       "      <td>159.618</td>\n",
       "      <td>-10.312</td>\n",
       "      <td>27.396</td>\n",
       "      <td>139.321</td>\n",
       "      <td>-96.898</td>\n",
       "      <td>16.232</td>\n",
       "      <td>1136.559</td>\n",
       "      <td>-196.619</td>\n",
       "      <td>-587.373</td>\n",
       "      <td>-31.418</td>\n",
       "      <td>-119.738</td>\n",
       "      <td>27.369</td>\n",
       "    </tr>\n",
       "    <tr>\n",
       "      <th>4</th>\n",
       "      <td>74.023</td>\n",
       "      <td>-24.307</td>\n",
       "      <td>34.791</td>\n",
       "      <td>39.111</td>\n",
       "      <td>-18.101</td>\n",
       "      <td>3.256</td>\n",
       "      <td>1867.326</td>\n",
       "      <td>915.997</td>\n",
       "      <td>-774.333</td>\n",
       "      <td>-31.418</td>\n",
       "      <td>-119.738</td>\n",
       "      <td>27.369</td>\n",
       "    </tr>\n",
       "  </tbody>\n",
       "</table>\n",
       "</div>"
      ],
      "text/plain": [
       "   joint_0  joint_1  joint_2  joint_3  joint_4  joint_5   laser_x  laser_y  \\\n",
       "0  141.158  -56.026   16.648   26.515   71.239   74.703  1329.845  -40.650   \n",
       "1  113.155  -38.278   29.866  156.538  -28.555    3.794  1388.183  462.718   \n",
       "2   80.101  -45.366   27.095   60.263  -14.974  -68.352  1742.167  875.745   \n",
       "3  159.618  -10.312   27.396  139.321  -96.898   16.232  1136.559 -196.619   \n",
       "4   74.023  -24.307   34.791   39.111  -18.101    3.256  1867.326  915.997   \n",
       "\n",
       "   laser_z  tool_x   tool_y  tool_z  \n",
       "0  -76.294 -31.418 -119.738  27.369  \n",
       "1 -104.241 -31.418 -119.738  27.369  \n",
       "2 -321.800 -31.418 -119.738  27.369  \n",
       "3 -587.373 -31.418 -119.738  27.369  \n",
       "4 -774.333 -31.418 -119.738  27.369  "
      ]
     },
     "metadata": {},
     "output_type": "display_data"
    },
    {
     "data": {
      "text/html": [
       "<div>\n",
       "<style>\n",
       "    .dataframe thead tr:only-child th {\n",
       "        text-align: right;\n",
       "    }\n",
       "\n",
       "    .dataframe thead th {\n",
       "        text-align: left;\n",
       "    }\n",
       "\n",
       "    .dataframe tbody tr th {\n",
       "        vertical-align: top;\n",
       "    }\n",
       "</style>\n",
       "<table border=\"1\" class=\"dataframe\">\n",
       "  <thead>\n",
       "    <tr style=\"text-align: right;\">\n",
       "      <th></th>\n",
       "      <th>joint_0</th>\n",
       "      <th>joint_1</th>\n",
       "      <th>joint_2</th>\n",
       "      <th>joint_3</th>\n",
       "      <th>joint_4</th>\n",
       "      <th>joint_5</th>\n",
       "      <th>laser_x</th>\n",
       "      <th>laser_y</th>\n",
       "      <th>laser_z</th>\n",
       "      <th>tool_x</th>\n",
       "      <th>tool_y</th>\n",
       "      <th>tool_z</th>\n",
       "    </tr>\n",
       "  </thead>\n",
       "  <tbody>\n",
       "    <tr>\n",
       "      <th>146</th>\n",
       "      <td>128.119</td>\n",
       "      <td>-33.365</td>\n",
       "      <td>73.789</td>\n",
       "      <td>115.324</td>\n",
       "      <td>-41.703</td>\n",
       "      <td>63.009</td>\n",
       "      <td>1307.882</td>\n",
       "      <td>322.416</td>\n",
       "      <td>-581.836</td>\n",
       "      <td>-31.418</td>\n",
       "      <td>-119.738</td>\n",
       "      <td>27.369</td>\n",
       "    </tr>\n",
       "    <tr>\n",
       "      <th>147</th>\n",
       "      <td>168.337</td>\n",
       "      <td>-45.826</td>\n",
       "      <td>43.306</td>\n",
       "      <td>-13.215</td>\n",
       "      <td>105.359</td>\n",
       "      <td>-53.426</td>\n",
       "      <td>1195.157</td>\n",
       "      <td>-235.826</td>\n",
       "      <td>-464.456</td>\n",
       "      <td>-31.418</td>\n",
       "      <td>-119.738</td>\n",
       "      <td>27.369</td>\n",
       "    </tr>\n",
       "    <tr>\n",
       "      <th>148</th>\n",
       "      <td>80.145</td>\n",
       "      <td>-56.789</td>\n",
       "      <td>49.528</td>\n",
       "      <td>53.370</td>\n",
       "      <td>-9.567</td>\n",
       "      <td>-101.961</td>\n",
       "      <td>1759.802</td>\n",
       "      <td>848.527</td>\n",
       "      <td>-302.431</td>\n",
       "      <td>-31.418</td>\n",
       "      <td>-119.738</td>\n",
       "      <td>27.369</td>\n",
       "    </tr>\n",
       "    <tr>\n",
       "      <th>149</th>\n",
       "      <td>132.957</td>\n",
       "      <td>-69.031</td>\n",
       "      <td>66.650</td>\n",
       "      <td>-13.151</td>\n",
       "      <td>68.842</td>\n",
       "      <td>41.114</td>\n",
       "      <td>1315.753</td>\n",
       "      <td>155.694</td>\n",
       "      <td>-388.257</td>\n",
       "      <td>-31.418</td>\n",
       "      <td>-119.738</td>\n",
       "      <td>27.369</td>\n",
       "    </tr>\n",
       "    <tr>\n",
       "      <th>150</th>\n",
       "      <td>70.734</td>\n",
       "      <td>-67.434</td>\n",
       "      <td>33.176</td>\n",
       "      <td>39.382</td>\n",
       "      <td>-17.825</td>\n",
       "      <td>27.201</td>\n",
       "      <td>1952.649</td>\n",
       "      <td>628.436</td>\n",
       "      <td>-121.983</td>\n",
       "      <td>-31.418</td>\n",
       "      <td>-119.738</td>\n",
       "      <td>27.369</td>\n",
       "    </tr>\n",
       "  </tbody>\n",
       "</table>\n",
       "</div>"
      ],
      "text/plain": [
       "     joint_0  joint_1  joint_2  joint_3  joint_4  joint_5   laser_x  laser_y  \\\n",
       "146  128.119  -33.365   73.789  115.324  -41.703   63.009  1307.882  322.416   \n",
       "147  168.337  -45.826   43.306  -13.215  105.359  -53.426  1195.157 -235.826   \n",
       "148   80.145  -56.789   49.528   53.370   -9.567 -101.961  1759.802  848.527   \n",
       "149  132.957  -69.031   66.650  -13.151   68.842   41.114  1315.753  155.694   \n",
       "150   70.734  -67.434   33.176   39.382  -17.825   27.201  1952.649  628.436   \n",
       "\n",
       "     laser_z  tool_x   tool_y  tool_z  \n",
       "146 -581.836 -31.418 -119.738  27.369  \n",
       "147 -464.456 -31.418 -119.738  27.369  \n",
       "148 -302.431 -31.418 -119.738  27.369  \n",
       "149 -388.257 -31.418 -119.738  27.369  \n",
       "150 -121.983 -31.418 -119.738  27.369  "
      ]
     },
     "metadata": {},
     "output_type": "display_data"
    }
   ],
   "source": [
    "robot_df = pd.read_csv('ur10.csv')\n",
    "\n",
    "display(robot_df.head())\n",
    "display(robot_df.tail())"
   ]
  },
  {
   "cell_type": "code",
   "execution_count": 8,
   "metadata": {
    "slideshow": {
     "slide_type": "subslide"
    }
   },
   "outputs": [
    {
     "data": {
      "image/png": "[encoded data removed]",
      "text/plain": [
       "<matplotlib.figure.Figure at 0x10808f240>"
      ]
     },
     "metadata": {},
     "output_type": "display_data"
    }
   ],
   "source": [
    "fig = plt.figure()\n",
    "ax = fig.add_subplot(111, projection='3d')\n",
    "\n",
    "# plot \n",
    "ax.scatter(robot_df['laser_x'],robot_df['laser_y'],robot_df['laser_z'],label='Measured Positions');\n",
    "ax.scatter(world_frame[0, -1],world_frame[1, -1],world_frame[2, -1],label='Robot Base');\n",
    "ax.scatter(0,0,0,label='Laser Tracker');\n",
    "\n",
    "ax.legend();\n",
    "ax.set_aspect('equal');"
   ]
  },
  {
   "cell_type": "markdown",
   "metadata": {},
   "source": [
    "- Bias towards region between laser tracker and robot base\n",
    "- Good enough for a demo! 😛"
   ]
  },
  {
   "cell_type": "code",
   "execution_count": 9,
   "metadata": {
    "slideshow": {
     "slide_type": "subslide"
    }
   },
   "outputs": [],
   "source": [
    "# split df into inputs/outputs\n",
    "robot_joints = robot_df[['joint_{}'.format(i) for i in range(6)]]\n",
    "robot_positions = robot_df[['laser_{}'.format(i) for i in 'xyz']]\n",
    "\n",
    "# pybotics uses radians\n",
    "robot_joints = np.deg2rad(robot_joints)"
   ]
  },
  {
   "cell_type": "markdown",
   "metadata": {
    "slideshow": {
     "slide_type": "slide"
    }
   },
   "source": [
    "## Split Testing and Training Data\n",
    "- Put aside a set of measures for validation after calibration\n",
    "- Prevent overfitting"
   ]
  },
  {
   "cell_type": "code",
   "execution_count": 10,
   "metadata": {
    "slideshow": {
     "slide_type": "subslide"
    }
   },
   "outputs": [],
   "source": [
    "train_robot_joints, \\\n",
    "test_robot_joints, \\\n",
    "train_robot_positions, \\\n",
    "test_robot_positions = train_test_split(robot_joints,\n",
    "                                        robot_positions,\n",
    "                                        test_size=0.3)"
   ]
  },
  {
   "cell_type": "markdown",
   "metadata": {
    "slideshow": {
     "slide_type": "slide"
    }
   },
   "source": [
    "## Nominal Model\n",
    "- Represents the manufacturer's intended mathematical model for the robot"
   ]
  },
  {
   "cell_type": "code",
   "execution_count": 11,
   "metadata": {
    "slideshow": {
     "slide_type": "subslide"
    }
   },
   "outputs": [
    {
     "data": {
      "text/html": [
       "<div>\n",
       "<style>\n",
       "    .dataframe thead tr:only-child th {\n",
       "        text-align: right;\n",
       "    }\n",
       "\n",
       "    .dataframe thead th {\n",
       "        text-align: left;\n",
       "    }\n",
       "\n",
       "    .dataframe tbody tr th {\n",
       "        vertical-align: top;\n",
       "    }\n",
       "</style>\n",
       "<table border=\"1\" class=\"dataframe\">\n",
       "  <thead>\n",
       "    <tr style=\"text-align: right;\">\n",
       "      <th></th>\n",
       "      <th>alpha</th>\n",
       "      <th>a</th>\n",
       "      <th>theta</th>\n",
       "      <th>d</th>\n",
       "    </tr>\n",
       "  </thead>\n",
       "  <tbody>\n",
       "    <tr>\n",
       "      <th>0</th>\n",
       "      <td>0.000</td>\n",
       "      <td>0.0</td>\n",
       "      <td>0.000</td>\n",
       "      <td>118.0</td>\n",
       "    </tr>\n",
       "    <tr>\n",
       "      <th>1</th>\n",
       "      <td>1.571</td>\n",
       "      <td>0.0</td>\n",
       "      <td>3.142</td>\n",
       "      <td>0.0</td>\n",
       "    </tr>\n",
       "    <tr>\n",
       "      <th>2</th>\n",
       "      <td>0.000</td>\n",
       "      <td>612.7</td>\n",
       "      <td>0.000</td>\n",
       "      <td>0.0</td>\n",
       "    </tr>\n",
       "    <tr>\n",
       "      <th>3</th>\n",
       "      <td>0.000</td>\n",
       "      <td>571.6</td>\n",
       "      <td>0.000</td>\n",
       "      <td>163.9</td>\n",
       "    </tr>\n",
       "    <tr>\n",
       "      <th>4</th>\n",
       "      <td>-1.571</td>\n",
       "      <td>0.0</td>\n",
       "      <td>0.000</td>\n",
       "      <td>115.7</td>\n",
       "    </tr>\n",
       "    <tr>\n",
       "      <th>5</th>\n",
       "      <td>1.571</td>\n",
       "      <td>0.0</td>\n",
       "      <td>3.142</td>\n",
       "      <td>92.2</td>\n",
       "    </tr>\n",
       "  </tbody>\n",
       "</table>\n",
       "</div>"
      ],
      "text/plain": [
       "   alpha      a  theta      d\n",
       "0  0.000    0.0  0.000  118.0\n",
       "1  1.571    0.0  3.142    0.0\n",
       "2  0.000  612.7  0.000    0.0\n",
       "3  0.000  571.6  0.000  163.9\n",
       "4 -1.571    0.0  0.000  115.7\n",
       "5  1.571    0.0  3.142   92.2"
      ]
     },
     "metadata": {},
     "output_type": "display_data"
    }
   ],
   "source": [
    "# load UR10 kinematic chain (i.e., MDH parameters)\n",
    "mdh = np.loadtxt('ur10-mdh.csv', delimiter=',')\n",
    "kc = KinematicChain.from_array(mdh)\n",
    "\n",
    "# construct nominal robot\n",
    "nominal_robot = Robot(kc)\n",
    "nominal_robot.world_frame = Frame(world_frame)\n",
    "nominal_robot.tool = Tool(tool_frame)\n",
    "\n",
    "display(pd.DataFrame(\n",
    "        nominal_robot.kinematic_chain.vector.reshape(nominal_robot.num_dof,-1),\n",
    "        columns=('alpha', 'a', 'theta', 'd')))"
   ]
  },
  {
   "cell_type": "markdown",
   "metadata": {
    "slideshow": {
     "slide_type": "slide"
    }
   },
   "source": [
    "## Initial Errors\n",
    "- What would the offline programming errors look like if we did not calibrate the robot?"
   ]
  },
  {
   "cell_type": "code",
   "execution_count": 12,
   "metadata": {
    "slideshow": {
     "slide_type": "subslide"
    }
   },
   "outputs": [
    {
     "data": {
      "text/plain": [
       "count    46.000\n",
       "mean      2.666\n",
       "std       0.634\n",
       "min       1.081\n",
       "25%       2.251\n",
       "50%       2.667\n",
       "75%       3.001\n",
       "max       4.350\n",
       "dtype: float64"
      ]
     },
     "metadata": {},
     "output_type": "display_data"
    }
   ],
   "source": [
    "nominal_errors = compute_absolute_errors(nominal_robot, test_robot_joints, test_robot_positions)\n",
    "\n",
    "display(pd.Series(nominal_errors).describe())"
   ]
  },
  {
   "cell_type": "code",
   "execution_count": 13,
   "metadata": {
    "slideshow": {
     "slide_type": "subslide"
    }
   },
   "outputs": [
    {
     "data": {
      "image/png": "[encoded data removed]",
      "text/plain": [
       "<matplotlib.figure.Figure at 0x1080815f8>"
      ]
     },
     "metadata": {},
     "output_type": "display_data"
    }
   ],
   "source": [
    "plt.figure()\n",
    "\n",
    "plt.hist(x=nominal_errors,\n",
    "         label='Nominal',\n",
    "         bins='auto');\n",
    "\n",
    "plt.xlabel('Absolute Error [mm]');\n",
    "plt.ylabel('Frequency');\n",
    "plt.legend();"
   ]
  },
  {
   "cell_type": "markdown",
   "metadata": {
    "slideshow": {
     "slide_type": "-"
    }
   },
   "source": [
    "- Ouch! Pretty large errors!\n",
    "- Don't forget, these are real measurements of a real industrial (expensive) robot!"
   ]
  },
  {
   "cell_type": "markdown",
   "metadata": {
    "slideshow": {
     "slide_type": "slide"
    }
   },
   "source": [
    "## Tool Calibration\n",
    "- Poorly designed and measured tooling often has a large error contribution\n",
    "- Simply screwing a tool to a robot isn't that accurate..."
   ]
  },
  {
   "cell_type": "code",
   "execution_count": 14,
   "metadata": {
    "slideshow": {
     "slide_type": "subslide"
    }
   },
   "outputs": [],
   "source": [
    "# create a robot copy for tool calibration\n",
    "tool_calibration_robot = deepcopy(nominal_robot)"
   ]
  },
  {
   "cell_type": "code",
   "execution_count": 15,
   "metadata": {
    "slideshow": {
     "slide_type": "subslide"
    }
   },
   "outputs": [],
   "source": [
    "# we are only going to calibrate \n",
    "# the tool centre point position (TCP) not orientation\n",
    "tool_mask = [False] * TRANSFORM_VECTOR_LENGTH\n",
    "\n",
    "for i in range(POSITION_VECTOR_LENGTH):\n",
    "    tool_mask[i] = True\n",
    "\n",
    "tool_calibration_robot.optimization_mask \\\n",
    "    = RobotOptimizationMask(world_frame=False,\n",
    "                            kinematic_chain=False,\n",
    "                            tool=tool_mask)"
   ]
  },
  {
   "cell_type": "code",
   "execution_count": 16,
   "metadata": {
    "slideshow": {
     "slide_type": "subslide"
    }
   },
   "outputs": [
    {
     "data": {
      "text/plain": [
       "array([[   1.        ,    0.        ,    0.        ,  -32.78366082],\n",
       "       [  -0.        ,    1.        ,    0.        , -119.1872499 ],\n",
       "       [   0.        ,   -0.        ,    1.        ,   27.41458655],\n",
       "       [   0.        ,    0.        ,    0.        ,    1.        ]])"
      ]
     },
     "metadata": {},
     "output_type": "display_data"
    }
   ],
   "source": [
    "# scipy to the rescue!\n",
    "# minimize the error of the tool_calibration_robot model\n",
    "result = scipy.optimize.leastsq(func=fitness_function,\n",
    "                                x0=tool_calibration_robot.optimization_vector,\n",
    "                                args=(tool_calibration_robot,\n",
    "                                      tool_joints,\n",
    "                                      tool_positions))\n",
    "\n",
    "# apply the solution vector to the model\n",
    "tool_calibration_robot.apply_optimization_vector(result[0])\n",
    "\n",
    "# optimized tool frame\n",
    "display(tool_calibration_robot.tool.matrix)"
   ]
  },
  {
   "cell_type": "code",
   "execution_count": 17,
   "metadata": {
    "slideshow": {
     "slide_type": "subslide"
    }
   },
   "outputs": [
    {
     "data": {
      "text/plain": [
       "array([[ 0.        ,  0.        ,  0.        , -1.36525382],\n",
       "       [-0.        ,  0.        ,  0.        ,  0.5504671 ],\n",
       "       [ 0.        , -0.        ,  0.        ,  0.04589555],\n",
       "       [ 0.        ,  0.        ,  0.        ,  0.        ]])"
      ]
     },
     "metadata": {},
     "output_type": "display_data"
    }
   ],
   "source": [
    "# diff vs old frame\n",
    "display(tool_calibration_robot.tool.matrix - tool_frame)"
   ]
  },
  {
   "cell_type": "markdown",
   "metadata": {
    "slideshow": {
     "slide_type": "-"
    }
   },
   "source": [
    "- Even with our well design tool and CAD measurements, the actual tool was off by a few mm"
   ]
  },
  {
   "cell_type": "markdown",
   "metadata": {
    "slideshow": {
     "slide_type": "slide"
    }
   },
   "source": [
    "## Robot Calibration"
   ]
  },
  {
   "cell_type": "code",
   "execution_count": 18,
   "metadata": {
    "slideshow": {
     "slide_type": "subslide"
    }
   },
   "outputs": [],
   "source": [
    "# make a new robot copy\n",
    "calibration_robot = deepcopy(tool_calibration_robot)"
   ]
  },
  {
   "cell_type": "code",
   "execution_count": 19,
   "metadata": {
    "slideshow": {
     "slide_type": "subslide"
    }
   },
   "outputs": [
    {
     "data": {
      "text/plain": [
       "array([[ True,  True,  True,  True],\n",
       "       [ True,  True,  True, False],\n",
       "       [ True,  True,  True, False],\n",
       "       [ True,  True,  True,  True],\n",
       "       [ True,  True,  True,  True],\n",
       "       [ True,  True,  True,  True]], dtype=bool)"
      ]
     },
     "metadata": {},
     "output_type": "display_data"
    }
   ],
   "source": [
    "# init the optimization mask\n",
    "mask = np.array(calibration_robot.kinematic_chain.optimization_mask) \\\n",
    "        .reshape((calibration_robot.num_dof, -1))\n",
    "mask[:] = True\n",
    "\n",
    "# filter out a couple of redundant parameters\n",
    "# outside the scope of the presentation\n",
    "mask[1:3, -1] = False\n",
    "display(mask)\n",
    "\n",
    "# apply mask to robot\n",
    "# filter out world/tool calibrations\n",
    "calibration_robot.optimization_mask \\\n",
    "    = RobotOptimizationMask(world_frame=False,\n",
    "                            kinematic_chain=mask.ravel(),\n",
    "                            tool=False)"
   ]
  },
  {
   "cell_type": "code",
   "execution_count": 20,
   "metadata": {
    "slideshow": {
     "slide_type": "subslide"
    }
   },
   "outputs": [
    {
     "name": "stderr",
     "output_type": "stream",
     "text": [
      "/usr/local/lib/python3.6/site-packages/scipy/optimize/minpack.py:427: RuntimeWarning: Number of calls to function has reached maxfev = 50.\n",
      "  warnings.warn(errors[info][0], RuntimeWarning)\n"
     ]
    }
   ],
   "source": [
    "# maxfev is set way lower than it should for a quick demo\n",
    "result = scipy.optimize.leastsq(func=fitness_function,\n",
    "                                x0=calibration_robot.optimization_vector,\n",
    "                                maxfev=50,\n",
    "                                args=(calibration_robot,\n",
    "                                      train_robot_joints,\n",
    "                                      train_robot_positions))\n",
    "\n",
    "# apply the solution vector to the model\n",
    "calibration_robot.apply_optimization_vector(result[0])"
   ]
  },
  {
   "cell_type": "code",
   "execution_count": 21,
   "metadata": {
    "scrolled": true,
    "slideshow": {
     "slide_type": "subslide"
    }
   },
   "outputs": [
    {
     "data": {
      "text/html": [
       "<div>\n",
       "<style>\n",
       "    .dataframe thead tr:only-child th {\n",
       "        text-align: right;\n",
       "    }\n",
       "\n",
       "    .dataframe thead th {\n",
       "        text-align: left;\n",
       "    }\n",
       "\n",
       "    .dataframe tbody tr th {\n",
       "        vertical-align: top;\n",
       "    }\n",
       "</style>\n",
       "<table border=\"1\" class=\"dataframe\">\n",
       "  <thead>\n",
       "    <tr style=\"text-align: right;\">\n",
       "      <th></th>\n",
       "      <th>alpha</th>\n",
       "      <th>a</th>\n",
       "      <th>theta</th>\n",
       "      <th>d</th>\n",
       "    </tr>\n",
       "  </thead>\n",
       "  <tbody>\n",
       "    <tr>\n",
       "      <th>0</th>\n",
       "      <td>3.532e-06</td>\n",
       "      <td>0.334</td>\n",
       "      <td>4.992e-04</td>\n",
       "      <td>118.258</td>\n",
       "    </tr>\n",
       "    <tr>\n",
       "      <th>1</th>\n",
       "      <td>1.572e+00</td>\n",
       "      <td>-0.204</td>\n",
       "      <td>3.139e+00</td>\n",
       "      <td>0.000</td>\n",
       "    </tr>\n",
       "    <tr>\n",
       "      <th>2</th>\n",
       "      <td>-7.380e-04</td>\n",
       "      <td>613.103</td>\n",
       "      <td>2.124e-03</td>\n",
       "      <td>0.000</td>\n",
       "    </tr>\n",
       "    <tr>\n",
       "      <th>3</th>\n",
       "      <td>1.952e-03</td>\n",
       "      <td>571.667</td>\n",
       "      <td>-2.174e-03</td>\n",
       "      <td>164.354</td>\n",
       "    </tr>\n",
       "    <tr>\n",
       "      <th>4</th>\n",
       "      <td>-1.572e+00</td>\n",
       "      <td>-0.225</td>\n",
       "      <td>1.637e-02</td>\n",
       "      <td>115.762</td>\n",
       "    </tr>\n",
       "    <tr>\n",
       "      <th>5</th>\n",
       "      <td>1.571e+00</td>\n",
       "      <td>0.079</td>\n",
       "      <td>3.154e+00</td>\n",
       "      <td>91.696</td>\n",
       "    </tr>\n",
       "  </tbody>\n",
       "</table>\n",
       "</div>"
      ],
      "text/plain": [
       "       alpha        a      theta        d\n",
       "0  3.532e-06    0.334  4.992e-04  118.258\n",
       "1  1.572e+00   -0.204  3.139e+00    0.000\n",
       "2 -7.380e-04  613.103  2.124e-03    0.000\n",
       "3  1.952e-03  571.667 -2.174e-03  164.354\n",
       "4 -1.572e+00   -0.225  1.637e-02  115.762\n",
       "5  1.571e+00    0.079  3.154e+00   91.696"
      ]
     },
     "metadata": {},
     "output_type": "display_data"
    }
   ],
   "source": [
    "new_model = calibration_robot \\\n",
    "            .kinematic_chain \\\n",
    "            .vector \\\n",
    "            .reshape(calibration_robot.num_dof,-1)\n",
    "\n",
    "display(pd.DataFrame(new_model,\n",
    "        columns=('alpha', 'a', 'theta', 'd')))"
   ]
  },
  {
   "cell_type": "code",
   "execution_count": 22,
   "metadata": {
    "slideshow": {
     "slide_type": "subslide"
    }
   },
   "outputs": [
    {
     "data": {
      "text/html": [
       "<div>\n",
       "<style>\n",
       "    .dataframe thead tr:only-child th {\n",
       "        text-align: right;\n",
       "    }\n",
       "\n",
       "    .dataframe thead th {\n",
       "        text-align: left;\n",
       "    }\n",
       "\n",
       "    .dataframe tbody tr th {\n",
       "        vertical-align: top;\n",
       "    }\n",
       "</style>\n",
       "<table border=\"1\" class=\"dataframe\">\n",
       "  <thead>\n",
       "    <tr style=\"text-align: right;\">\n",
       "      <th></th>\n",
       "      <th>delta alpha</th>\n",
       "      <th>delta a</th>\n",
       "      <th>delta theta</th>\n",
       "      <th>delta d</th>\n",
       "    </tr>\n",
       "  </thead>\n",
       "  <tbody>\n",
       "    <tr>\n",
       "      <th>0</th>\n",
       "      <td>3.532e-06</td>\n",
       "      <td>0.334</td>\n",
       "      <td>4.992e-04</td>\n",
       "      <td>0.258</td>\n",
       "    </tr>\n",
       "    <tr>\n",
       "      <th>1</th>\n",
       "      <td>1.086e-03</td>\n",
       "      <td>-0.204</td>\n",
       "      <td>-2.157e-03</td>\n",
       "      <td>0.000</td>\n",
       "    </tr>\n",
       "    <tr>\n",
       "      <th>2</th>\n",
       "      <td>-7.380e-04</td>\n",
       "      <td>0.403</td>\n",
       "      <td>2.124e-03</td>\n",
       "      <td>0.000</td>\n",
       "    </tr>\n",
       "    <tr>\n",
       "      <th>3</th>\n",
       "      <td>1.952e-03</td>\n",
       "      <td>0.067</td>\n",
       "      <td>-2.174e-03</td>\n",
       "      <td>0.454</td>\n",
       "    </tr>\n",
       "    <tr>\n",
       "      <th>4</th>\n",
       "      <td>-8.295e-04</td>\n",
       "      <td>-0.225</td>\n",
       "      <td>1.637e-02</td>\n",
       "      <td>0.062</td>\n",
       "    </tr>\n",
       "    <tr>\n",
       "      <th>5</th>\n",
       "      <td>5.975e-05</td>\n",
       "      <td>0.079</td>\n",
       "      <td>1.265e-02</td>\n",
       "      <td>-0.504</td>\n",
       "    </tr>\n",
       "  </tbody>\n",
       "</table>\n",
       "</div>"
      ],
      "text/plain": [
       "   delta alpha  delta a  delta theta  delta d\n",
       "0    3.532e-06    0.334    4.992e-04    0.258\n",
       "1    1.086e-03   -0.204   -2.157e-03    0.000\n",
       "2   -7.380e-04    0.403    2.124e-03    0.000\n",
       "3    1.952e-03    0.067   -2.174e-03    0.454\n",
       "4   -8.295e-04   -0.225    1.637e-02    0.062\n",
       "5    5.975e-05    0.079    1.265e-02   -0.504"
      ]
     },
     "metadata": {},
     "output_type": "display_data"
    }
   ],
   "source": [
    "old_model = nominal_robot \\\n",
    "            .kinematic_chain \\\n",
    "            .vector \\\n",
    "            .reshape(nominal_robot.num_dof,-1)\n",
    "\n",
    "display(pd.DataFrame(new_model - old_model,\n",
    "        columns=('delta alpha', 'delta a',\n",
    "                 'delta theta', 'delta d')))"
   ]
  },
  {
   "cell_type": "markdown",
   "metadata": {
    "slideshow": {
     "slide_type": "-"
    }
   },
   "source": [
    "- Little errors here and there through the model"
   ]
  },
  {
   "cell_type": "markdown",
   "metadata": {
    "slideshow": {
     "slide_type": "slide"
    }
   },
   "source": [
    "## Error Improvement"
   ]
  },
  {
   "cell_type": "code",
   "execution_count": 23,
   "metadata": {
    "slideshow": {
     "slide_type": "subslide"
    }
   },
   "outputs": [
    {
     "data": {
      "text/plain": [
       "count    46.000\n",
       "mean      0.232\n",
       "std       0.130\n",
       "min       0.044\n",
       "25%       0.142\n",
       "50%       0.213\n",
       "75%       0.310\n",
       "max       0.612\n",
       "dtype: float64"
      ]
     },
     "metadata": {},
     "output_type": "display_data"
    }
   ],
   "source": [
    "calibrated_errors = compute_absolute_errors(calibration_robot,\n",
    "                                            test_robot_joints,\n",
    "                                            test_robot_positions)\n",
    "\n",
    "display(pd.Series(calibrated_errors).describe())"
   ]
  },
  {
   "cell_type": "code",
   "execution_count": 24,
   "metadata": {
    "scrolled": false,
    "slideshow": {
     "slide_type": "subslide"
    }
   },
   "outputs": [
    {
     "data": {
      "image/png": "[encoded data removed]",
      "text/plain": [
       "<matplotlib.figure.Figure at 0x1080816d8>"
      ]
     },
     "metadata": {},
     "output_type": "display_data"
    }
   ],
   "source": [
    "plt.figure()\n",
    "\n",
    "plt.hist(x=[nominal_errors,calibrated_errors],\n",
    "         label=['Nominal', 'Calibrated'],\n",
    "         bins=10);\n",
    "\n",
    "plt.xlabel('Absolute Error [mm]');\n",
    "plt.ylabel('Frequency');\n",
    "plt.legend();"
   ]
  },
  {
   "cell_type": "markdown",
   "metadata": {
    "slideshow": {
     "slide_type": "subslide"
    }
   },
   "source": [
    "![](doge-accuracy.png)"
   ]
  },
  {
   "cell_type": "code",
   "execution_count": 25,
   "metadata": {
    "scrolled": true,
    "slideshow": {
     "slide_type": "subslide"
    }
   },
   "outputs": [
    {
     "data": {
      "image/png": "[encoded data removed]",
      "text/plain": [
       "<matplotlib.figure.Figure at 0x1083fbd68>"
      ]
     },
     "metadata": {},
     "output_type": "display_data"
    }
   ],
   "source": [
    "# more zoom!\n",
    "plt.figure()\n",
    "\n",
    "plt.hist(x=calibrated_errors,\n",
    "         label='Calibrated',\n",
    "         bins='auto');\n",
    "\n",
    "plt.xlabel('Absolute Error [mm]');\n",
    "plt.ylabel('Frequency');\n",
    "plt.legend();"
   ]
  }
 ],
 "metadata": {
  "celltoolbar": "Slideshow",
  "kernelspec": {
   "display_name": "Python 3",
   "language": "python",
   "name": "python3"
  },
  "language_info": {
   "codemirror_mode": {
    "name": "ipython",
    "version": 3
   },
   "file_extension": ".py",
   "mimetype": "text/x-python",
   "name": "python",
   "nbconvert_exporter": "python",
   "pygments_lexer": "ipython3",
   "version": "3.6.3"
  }
 },
 "nbformat": 4,
 "nbformat_minor": 1
}
